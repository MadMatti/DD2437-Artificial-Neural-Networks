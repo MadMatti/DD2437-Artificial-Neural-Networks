{
 "cells": [
  {
   "cell_type": "code",
   "execution_count": null,
   "id": "ac46c0e5",
   "metadata": {},
   "outputs": [],
   "source": [
    "import numpy as np\n",
    "from matplotlib import pyplot as plt\n",
    "\n",
    "class RBF():\n",
    "    def __init__(self,hidden_dim):\n",
    "        self.hidden_dim = hidden_dim\n",
    "        #self.centers = center_pos\n",
    "        #self.weights = np.random.uniform(-1,1,self.hidden_dim)      #relevant only for online learning\n",
    "        #self.centers = [np.random.uniform(0, 2*np.pi) for i in range(self.hidden_dim)]\n",
    "        \n",
    "        self.weights = np.linspace(0,1,hidden_dim) #relevant only for online learning\n",
    "        self.centers = np.linspace(0,2*np.pi,hidden_dim)  # place the rbf centers evenly in the [0,2π]\n",
    "        self.sigma = None\n",
    "    \n",
    "    def phi(self,x):\n",
    "        return [np.exp(-((x-ci)**2)/(2*self.sigma**2)) for ci in self.centers]  # returns [phi_1(x),phi_2(x)....phi_n(x)]\n",
    "    \n",
    "    \n",
    "    def setWeights(self,w):\n",
    "        self.weights = w\n",
    "    \n",
    "    def setCenters(self,centers):\n",
    "        self.centers = centers\n",
    "    \n",
    "    def setVariance(self,variance):\n",
    "        self.sigma = variance\n",
    "    \n",
    "    def fit(self,X,y):                          #batch learning\n",
    "        PHI = np.array([self.phi(xi) for xi in X])\n",
    "        self.weights = np.linalg.inv(PHI.T@PHI)@PHI.T@y\n",
    "    \n",
    "    def online_learning(self,X,y,lr,epochs):\n",
    "        #shuffle the data\n",
    "        seed = 42\n",
    "        np.random.seed(seed)\n",
    "        idx = list(range(X.shape[0]))\n",
    "        np.random.shuffle(idx)\n",
    "        X = X[idx]\n",
    "        y = y[idx]\n",
    "        for epoch in range(epochs):\n",
    "            for x,y in zip(np.nditer(X),np.nditer(y)):\n",
    "                PHI_x = np.array(self.phi(x))\n",
    "                e = y - PHI_x.T@self.weights\n",
    "                dw = lr*e*PHI_x\n",
    "                self.weights = self.weights + dw\n",
    "\n",
    "    def predict(self,X):\n",
    "        PHI = np.array([self.phi(xi) for xi in X])\n",
    "        y_pred = PHI@self.weights\n",
    "        return y_pred\n",
    "\n",
    "\n",
    "def residual_error(y_pred,y):\n",
    "    return np.mean(np.abs(y_pred-y))\n",
    "\n",
    "def plot_data(x_test,y_test,y_pred,hidden_n,function):\n",
    "    # plot original data\n",
    "    \n",
    "    plt.figure(figsize=(5, 5))\n",
    "    plt.plot(x_test, y_test, 'r-',label = \"ground truth\")\n",
    "\n",
    "    # plot model predictions\n",
    "    plt.plot(x_test, y_pred, 'b-',label = \"predicted values\")\n",
    "    plt.xlabel(\"x\")\n",
    "    plt.ylabel(\"y\")\n",
    "    plt.legend()\n",
    "    plt.title(\"{} predictions for {} rbf centers\".format(function,hidden_n))\n",
    "    plt.savefig(\"{}_{}.png\".format(function,hidden_n))\n",
    "    plt.show()\n",
    "\n",
    "def square(x):\n",
    "    return np.where(np.sin(x) >= 0, 1, -1)\n",
    "\n",
    "def sigmoid(x):\n",
    "    return 1/(1+np.exp(-x))"
   ]
  },
  {
   "cell_type": "code",
   "execution_count": null,
   "id": "2b306d48",
   "metadata": {},
   "outputs": [],
   "source": [
    "#train data\n",
    "x_train = np.arange(0,2*np.pi,0.1)\n",
    "y_train_sine = np.array(np.sin(2*x_train))\n",
    "y_train_square = square(2*x_train)\n",
    "\n",
    "#test_data\n",
    "x_test = np.arange(0.05,2*np.pi,0.1)\n",
    "y_test_sine = np.sin(2*x_test)\n",
    "y_test_square = square(2*x_test)"
   ]
  },
  {
   "cell_type": "markdown",
   "id": "9fbc5ff0",
   "metadata": {},
   "source": [
    "# Batch Learning\n",
    "# f(x) = sin(2x)"
   ]
  },
  {
   "cell_type": "code",
   "execution_count": null,
   "id": "ca2fb3af",
   "metadata": {},
   "outputs": [],
   "source": [
    "hidden_units = 30\n",
    "rbf = RBF(hidden_units)\n",
    "rbf.setVariance(0.1)"
   ]
  },
  {
   "cell_type": "code",
   "execution_count": null,
   "id": "cf9b1b8c",
   "metadata": {},
   "outputs": [],
   "source": [
    "rbf.fit(x_train,y_train_sine)"
   ]
  },
  {
   "cell_type": "code",
   "execution_count": null,
   "id": "58916f7b",
   "metadata": {},
   "outputs": [],
   "source": [
    "y_pred = rbf.predict(x_test)\n",
    "test_error = residual_error(y_pred,y_test_sine)\n",
    "y_train_pred = rbf.predict(x_train)\n",
    "train_error = residual_error(y_train_pred,y_train_sine)\n",
    "print(\"residual train error for hidden units = {} is {}\".format(hidden_units,train_error))\n",
    "print(\"residual test error for hidden units = {} is {}\".format(hidden_units,test_error))\n"
   ]
  },
  {
   "cell_type": "code",
   "execution_count": null,
   "id": "4a75d037",
   "metadata": {},
   "outputs": [],
   "source": [
    "plot_data(x_test,y_test_sine,y_pred,hidden_units,\"sine\")"
   ]
  },
  {
   "cell_type": "markdown",
   "id": "62dd40e3",
   "metadata": {},
   "source": [
    "# f(x) = square(2x)"
   ]
  },
  {
   "cell_type": "code",
   "execution_count": null,
   "id": "b507e0f2",
   "metadata": {},
   "outputs": [],
   "source": [
    "hidden_units = 40\n",
    "rbf = RBF(hidden_units)\n",
    "rbf.setVariance(0.1)"
   ]
  },
  {
   "cell_type": "code",
   "execution_count": null,
   "id": "1809c174",
   "metadata": {},
   "outputs": [],
   "source": [
    "rbf.fit(x_train,y_train_square)"
   ]
  },
  {
   "cell_type": "code",
   "execution_count": null,
   "id": "bd1272a5",
   "metadata": {},
   "outputs": [],
   "source": [
    "y_pred = rbf.predict(x_test)\n",
    "#y_pred = np.sign(y_pred)\n",
    "test_error = residual_error(y_pred,y_test_square)\n",
    "y_train_pred = rbf.predict(x_train)\n",
    "train_error = residual_error(y_train_pred,y_train_square)\n",
    "print(\"residual train error for hidden units = {} is {}\".format(hidden_units,train_error))\n",
    "print(\"residual test error for hidden units = {} is {}\".format(hidden_units,test_error))"
   ]
  },
  {
   "cell_type": "code",
   "execution_count": null,
   "id": "cd8e0557",
   "metadata": {
    "scrolled": true
   },
   "outputs": [],
   "source": [
    "plot_data(x_test,y_test_square,y_pred,hidden_units,\"square\")"
   ]
  },
  {
   "cell_type": "markdown",
   "id": "5a7cb026",
   "metadata": {},
   "source": [
    "# On line learning \n",
    "# f(x) = sin(2x)"
   ]
  },
  {
   "cell_type": "code",
   "execution_count": null,
   "id": "5c097965",
   "metadata": {},
   "outputs": [],
   "source": [
    "hidden_units = 40         #39\n",
    "rbf = RBF(hidden_units)\n",
    "rbf.setVariance(0.3)         #0.6"
   ]
  },
  {
   "cell_type": "code",
   "execution_count": null,
   "id": "729256a4",
   "metadata": {},
   "outputs": [],
   "source": [
    "rbf.online_learning(x_train,y_train_sine,0.1,1)"
   ]
  },
  {
   "cell_type": "code",
   "execution_count": null,
   "id": "45e9e6d3",
   "metadata": {},
   "outputs": [],
   "source": [
    "y_pred_sin = rbf.predict(x_test)\n",
    "test_error = residual_error(y_pred_sin,y_test_sine)\n",
    "y_pred_train = rbf.predict(x_train)\n",
    "train_error = residual_error(y_pred_train,y_train_sine)\n",
    "print(\"residual train error for hidden units = {} is {}\".format(hidden_units,train_error))\n",
    "print(\"residual test error for hidden units = {} is {}\".format(hidden_units,test_error))"
   ]
  },
  {
   "cell_type": "code",
   "execution_count": null,
   "id": "d5b1dd7a",
   "metadata": {},
   "outputs": [],
   "source": [
    "plot_data(x_test,y_test_sine,y_pred_sin,hidden_units,\"online-sine\")"
   ]
  },
  {
   "cell_type": "markdown",
   "id": "3f8271df",
   "metadata": {},
   "source": [
    "# f(x) = square(x)"
   ]
  },
  {
   "cell_type": "code",
   "execution_count": null,
   "id": "697d449f",
   "metadata": {},
   "outputs": [],
   "source": [
    "hidden_units = 62\n",
    "rbf = RBF(hidden_units)\n",
    "#rbf.setWeights(np.random.uniform(0,1,hidden_units))\n",
    "rbf.setVariance(0.23)"
   ]
  },
  {
   "cell_type": "code",
   "execution_count": null,
   "id": "54ac38a2",
   "metadata": {},
   "outputs": [],
   "source": [
    "rbf.online_learning(x_train,y_train_square,0.1,1)"
   ]
  },
  {
   "cell_type": "code",
   "execution_count": null,
   "id": "5d9a324b",
   "metadata": {},
   "outputs": [],
   "source": [
    "y_pred = rbf.predict(x_test)\n",
    "test_error = residual_error(y_pred,y_test_square)\n",
    "y_pred_train = rbf.predict(x_train)\n",
    "train_error = residual_error(y_pred_train,y_train_square)\n",
    "print(\"residual train error for hidden units = {} is {}\".format(hidden_units,train_error))\n",
    "print(\"residual test error for hidden units = {} is {}\".format(hidden_units,test_error))"
   ]
  },
  {
   "cell_type": "code",
   "execution_count": null,
   "id": "f6d16632",
   "metadata": {},
   "outputs": [],
   "source": [
    "plot_data(x_test,y_test_square,y_pred,hidden_units,\"online-square\")"
   ]
  },
  {
   "cell_type": "markdown",
   "id": "299aecaa",
   "metadata": {},
   "source": [
    "### 3.3"
   ]
  },
  {
   "cell_type": "markdown",
   "id": "d4834cc1",
   "metadata": {},
   "source": [
    "Compare CL and not CL"
   ]
  },
  {
   "cell_type": "code",
   "execution_count": null,
   "id": "cdea89b6",
   "metadata": {},
   "outputs": [],
   "source": [
    "def competitive_learning(X, eta, max_iter, n_nodes):\n",
    "    rbf_location = np.random.uniform(low = 0, high = 2*np.pi, size = (n_nodes, 1))\n",
    "\n",
    "    for i in range(max_iter):\n",
    "        for x in X:\n",
    "            diff = np.abs(x - rbf_location)\n",
    "            dist = np.square(diff)\n",
    "            winner = np.argmin(dist)\n",
    "            rbf_location[winner] += eta * (x - rbf_location[winner])\n",
    "            eta = eta * 0.95 # decay learning rate \n",
    "\n",
    "    return rbf_location\n",
    "\n",
    "def soft_competitive_learning(X, eta, max_iter, n_nodes, n_winners): # CL with more than one winner\n",
    "    rbf_location = np.random.uniform(low = 0, high = 2*np.pi, size = (n_nodes, 1))\n",
    "\n",
    "    for i in range(max_iter):\n",
    "        for x in X:\n",
    "            eta_neighbour = eta\n",
    "            diff = np.abs(x - rbf_location)\n",
    "            dist = diff@diff.T\n",
    "            dist = np.sqrt(dist)\n",
    "            #print(dist)\n",
    "            diagonal = np.diag(dist)\n",
    "            #print(diagonal)\n",
    "\n",
    "            for j in range(n_winners):\n",
    "                winner = np.argmin(diagonal)\n",
    "                rbf_location[winner] += eta_neighbour * (x - rbf_location[winner])\n",
    "                diagonal = np.delete(diagonal, winner)\n",
    "                eta_neighbour = eta_neighbour * 0.5 # decay learning rate in the neighbourhood\n",
    "            eta = eta * 0.95 # decay learning rate\n",
    "\n",
    "    return rbf_location"
   ]
  },
  {
   "cell_type": "code",
   "execution_count": null,
   "id": "c820e98b",
   "metadata": {},
   "outputs": [],
   "source": [
    "n_hidden = 40\n",
    "eta = 0.1\n",
    "max_iterations = 10000\n",
    "centers_CL_noiseless = competitive_learning(x_train, eta, max_iterations, n_hidden)\n",
    "\n",
    "rbf_CL_noiseless = RBF(n_hidden)\n",
    "rbf_CL_noiseless.setVariance(0.3)\n",
    "rbf_CL_noiseless.setCenters(centers_CL_noiseless[:,0])\n",
    "rbf_CL_noiseless.fit(x_train, y_train_sine)\n",
    "y_pred_noiseless = rbf_CL_noiseless.predict(x_test)\n",
    "y_train_pred_noiseless = rbf_CL_noiseless.predict(x_train)\n",
    "test_error_noiseless = residual_error(y_pred_noiseless, y_test_sine)\n",
    "train_error_noiseless = residual_error(y_pred_noiseless, y_train_sine)\n",
    "print(\"Residual test error for noiseless CL is {}\".format(test_error_noiseless))\n",
    "print(\"Residual train error for noiseless CL is {}\".format(train_error_noiseless))\n",
    "\n",
    "noise = np.random.normal(scale = 0.1,size = x_train.shape[0])\n",
    "y_train_sine_noise = y_train_sine + noise\n",
    "\n",
    "rbf_CL_noiseless.fit(x_train, y_train_sine_noise)\n",
    "y_pred_noisy = rbf_CL_noiseless.predict(x_test)\n",
    "y_train_pred_noisy = rbf_CL_noiseless.predict(x_train)\n",
    "test_error_noisy = residual_error(y_pred_noisy, y_test_sine)\n",
    "train_error_noisy = residual_error(y_pred_noisy, y_train_sine)\n",
    "print(\"Residual test error for noisy CL is {}\".format(test_error_noisy))\n",
    "print(\"Residual train error for noisy CL is {}\".format(train_error_noisy))\n",
    "\n"
   ]
  },
  {
   "cell_type": "code",
   "execution_count": null,
   "id": "5ad2ddc4",
   "metadata": {},
   "outputs": [],
   "source": [
    "def plot_diff(x, y, y_pred, y_pred_CL, n_hidden, title):\n",
    "    plt.figure(figsize=(12, 6))\n",
    "    plt.plot(x, y, label='Ground Truth')\n",
    "    plt.plot(x, y_pred, label='sin')\n",
    "    plt.plot(x, y_pred_CL, label='CL-sin')\n",
    "    plt.title(title)\n",
    "    plt.xlabel(\"x\")\n",
    "    plt.ylabel(\"y\")\n",
    "    plt.legend()\n",
    "    plt.show()"
   ]
  },
  {
   "cell_type": "markdown",
   "id": "f742a9fa",
   "metadata": {},
   "source": [
    "plot comparison CL and not CL for noiseless sine function"
   ]
  },
  {
   "cell_type": "code",
   "execution_count": null,
   "id": "0f8159d0",
   "metadata": {},
   "outputs": [],
   "source": [
    "plot_diff(x_test, y_test_sine, y_pred_sin, y_pred_noiseless, n_hidden, \"Sine approximation for noiseless data and 40 hidden units\")"
   ]
  },
  {
   "cell_type": "markdown",
   "id": "cf094f5f",
   "metadata": {},
   "source": [
    "plot difference between CL and not CL for noisy sine function"
   ]
  },
  {
   "cell_type": "code",
   "execution_count": null,
   "id": "d4632024",
   "metadata": {},
   "outputs": [],
   "source": [
    "plot_diff(x_test, y_test_sine, y_pred_sin, y_pred_noisy, n_hidden, \"Sine approximation for noisy data and 40 hidden units\")"
   ]
  },
  {
   "cell_type": "markdown",
   "id": "0ba66025",
   "metadata": {},
   "source": []
  }
 ],
 "metadata": {
  "kernelspec": {
   "display_name": "Python 3.9.12 ('base')",
   "language": "python",
   "name": "python3"
  },
  "language_info": {
   "codemirror_mode": {
    "name": "ipython",
    "version": 3
   },
   "file_extension": ".py",
   "mimetype": "text/x-python",
   "name": "python",
   "nbconvert_exporter": "python",
   "pygments_lexer": "ipython3",
   "version": "3.9.12"
  },
  "vscode": {
   "interpreter": {
    "hash": "195db2848eee62c9ff7fd3d4d90ed470b85a4cc6750fa0c207c4e3af1e5ca207"
   }
  }
 },
 "nbformat": 4,
 "nbformat_minor": 5
}
