{
 "cells": [
  {
   "cell_type": "code",
   "execution_count": null,
   "metadata": {},
   "outputs": [],
   "source": []
  }
 ],
 "metadata": {
  "kernelspec": {
   "display_name": "Python 3.9.12 ('base')",
   "language": "python",
   "name": "python3"
  },
  "language_info": {
   "name": "python",
   "version": "3.9.12"
  },
  "orig_nbformat": 4,
  "vscode": {
   "interpreter": {
    "hash": "195db2848eee62c9ff7fd3d4d90ed470b85a4cc6750fa0c207c4e3af1e5ca207"
   }
  }
 },
 "nbformat": 4,
 "nbformat_minor": 2
}
